{
  "nbformat": 4,
  "nbformat_minor": 0,
  "metadata": {
    "colab": {
      "provenance": [],
      "gpuType": "T4",
      "mount_file_id": "10sA0sJ5uxFYKE5s5rPbNVCFYo9W9U2Kw",
      "authorship_tag": "ABX9TyNtsHGaA1lC2ywrNTiuXiGV",
      "include_colab_link": true
    },
    "kernelspec": {
      "name": "python3",
      "display_name": "Python 3"
    },
    "language_info": {
      "name": "python"
    },
    "accelerator": "GPU"
  },
  "cells": [
    {
      "cell_type": "markdown",
      "metadata": {
        "id": "view-in-github",
        "colab_type": "text"
      },
      "source": [
        "<a href=\"https://colab.research.google.com/github/alihaydarkir/fine-tuning/blob/main/Untitled0.ipynb\" target=\"_parent\"><img src=\"https://colab.research.google.com/assets/colab-badge.svg\" alt=\"Open In Colab\"/></a>"
      ]
    },
    {
      "cell_type": "code",
      "source": [
        "!pip install -q transformers datasets huggingface_hub accelerate\n"
      ],
      "metadata": {
        "id": "BaYI6tw0fcYc"
      },
      "execution_count": 4,
      "outputs": []
    },
    {
      "cell_type": "code",
      "source": [
        "import json\n",
        "import os\n",
        "\n",
        "# Örnek verisetin\n",
        "data = [\n",
        "    {\n",
        "        \"input\": \"Brokerlik ruhsatı nasıl alınır?\",\n",
        "        \"output\": \"Brokerlik, Müsteşarlıktan alınan brokerlik ruhsatı ile yapılır...\"\n",
        "    },\n",
        "    {\n",
        "        \"input\": \"Brokerlik yapması yasaklanan kişiler kimlerdir?\",\n",
        "        \"output\": \"Sigorta şirketlerinin, sigorta acentelerinin ve sigorta eksperlerinin ortakları...\"\n",
        "    }\n",
        "]\n",
        "\n",
        "# Fine-tuning klasörünün yolu\n",
        "output_dir = \"/content/drive/MyDrive/Colab Notebooks/fine-tuning/\"\n",
        "output_path = os.path.join(output_dir, \"sigorta_qa_ft.jsonl\")\n",
        "\n",
        "# Klasörü oluştur (eğer yoksa)\n",
        "os.makedirs(output_dir, exist_ok=True)\n",
        "\n",
        "# Fine-tuning klasörüne JSONL formatında kaydet\n",
        "with open(output_path, \"w\", encoding=\"utf-8\") as f:\n",
        "    for item in data:\n",
        "        f.write(json.dumps(item, ensure_ascii=False) + \"\\n\")\n",
        "\n",
        "print(f\"✅ Verisetin {output_path} yoluna kaydedildi.\")"
      ],
      "metadata": {
        "colab": {
          "base_uri": "https://localhost:8080/"
        },
        "id": "I-boB14UiVcB",
        "outputId": "2f625068-fe24-4e3f-81d9-7faf4abc7b0f"
      },
      "execution_count": 48,
      "outputs": [
        {
          "output_type": "stream",
          "name": "stdout",
          "text": [
            "✅ Verisetin /content/drive/MyDrive/Colab Notebooks/fine-tuning/sigorta_qa_ft.jsonl yoluna kaydedildi.\n"
          ]
        }
      ]
    },
    {
      "cell_type": "markdown",
      "source": [
        "3. Dataset yükleme (örnek)"
      ],
      "metadata": {
        "id": "nkRs9W3sf4-W"
      }
    },
    {
      "cell_type": "code",
      "source": [
        "with open(\"/content/drive/MyDrive/Colab Notebooks/fine-tuning/sigorta_qa_ft.jsonl\", \"r\", encoding=\"utf-8\") as f:\n",
        "    qa_data = json.load(f)\n",
        "# Dosyayı tekrar kaydet\n",
        "with open(\"sigorta_qa.json\", \"w\", encoding=\"utf-8\") as f:\n",
        "    json.dump(qa_data, f, ensure_ascii=False, indent=2)\n",
        "\n",
        "print(qa_data[:2])  # ilk 2 kaydı görelim\n"
      ],
      "metadata": {
        "colab": {
          "base_uri": "https://localhost:8080/"
        },
        "id": "6eZCMWmqf37u",
        "outputId": "74056c0f-ce6d-46d3-b1ac-5f52504584de"
      },
      "execution_count": 53,
      "outputs": [
        {
          "output_type": "stream",
          "name": "stdout",
          "text": [
            "[{'input': \"Sigortacılık Kanunu'nun amacı nedir?\", 'output': \"5684 sayılı Sigortacılık Kanunu'nun amacı; ülkemiz sigortacılığının geliştirilmesini sağlamak, sigorta sözleşmesinde yer alan kişilerin hak ve menfaatlerini korumak ve sigortacılık sektörünün güvenli ve istikrarlı bir ortamda etkin bir şekilde çalışmasını temin etmek üzere bu Kanuna tâbi kişi ve kuruluşların faaliyete başlama, teşkilât, yönetim, çalışma esas ve usûlleri ile faaliyetlerinin sona ermesi ve denetlenmesine ilişkin hususları düzenlemektir.\"}, {'input': \"Hangi kuruluşlar Sigortacılık Kanunu'na tabidir?\", 'output': \"Türkiye'de faaliyet gösteren sigorta şirketleri, reasürans şirketleri, Türkiye Sigorta, Reasürans ve Emeklilik Şirketleri Birliği, aracılar, aktüerler ile sigorta eksperleri bu Kanun hükümlerine tâbidir.\"}]\n"
          ]
        }
      ]
    },
    {
      "cell_type": "markdown",
      "source": [
        "4. Tokenizer hazırlama"
      ],
      "metadata": {
        "id": "Emscrvhpf5wa"
      }
    },
    {
      "cell_type": "code",
      "source": [
        "from transformers import AutoTokenizer\n",
        "\n",
        "tokenizer = AutoTokenizer.from_pretrained(\"bert-base-uncased\")\n",
        "\n",
        "def tokenize(batch):\n",
        "    return tokenizer(batch[\"text\"], truncation=True, padding=\"max_length\", max_length=128)\n",
        "\n",
        "tokenized_dataset = dataset.map(tokenize, batched=True, remove_columns=[\"text\"])\n"
      ],
      "metadata": {
        "id": "CdyvjHoLf5Y3"
      },
      "execution_count": null,
      "outputs": []
    },
    {
      "cell_type": "markdown",
      "source": [
        " 5. Model yükleme"
      ],
      "metadata": {
        "id": "O6cUjslPf6aP"
      }
    },
    {
      "cell_type": "code",
      "source": [
        "from transformers import AutoModelForSequenceClassification\n",
        "\n",
        "model = AutoModelForSequenceClassification.from_pretrained(\"bert-base-uncased\", num_labels=2)\n"
      ],
      "metadata": {
        "id": "XzrSRXSuf6HD"
      },
      "execution_count": null,
      "outputs": []
    },
    {
      "cell_type": "markdown",
      "source": [
        "6. DataLoader ve Trainer hazırlığı"
      ],
      "metadata": {
        "id": "roEFNdUXf7Q6"
      }
    },
    {
      "cell_type": "code",
      "source": [
        "from transformers import DataCollatorWithPadding, TrainingArguments, Trainer\n",
        "import evaluate\n",
        "\n",
        "data_collator = DataCollatorWithPadding(tokenizer=tokenizer)\n",
        "\n",
        "accuracy = evaluate.load(\"accuracy\")\n",
        "\n",
        "def compute_metrics(eval_pred):\n",
        "    predictions, labels = eval_pred\n",
        "    predictions = predictions.argmax(axis=-1)\n",
        "    return accuracy.compute(predictions=predictions, references=labels)\n",
        "\n",
        "training_args = TrainingArguments(\n",
        "    output_dir=\"./results\",\n",
        "    evaluation_strategy=\"epoch\",\n",
        "    save_strategy=\"epoch\",\n",
        "    learning_rate=2e-5,\n",
        "    per_device_train_batch_size=16,\n",
        "    per_device_eval_batch_size=16,\n",
        "    num_train_epochs=2,\n",
        "    weight_decay=0.01,\n",
        "    push_to_hub=True\n",
        ")\n",
        "\n",
        "trainer = Trainer(\n",
        "    model=model,\n",
        "    args=training_args,\n",
        "    train_dataset=tokenized_dataset[\"train\"].shuffle(seed=42).select(range(2000)),\n",
        "    eval_dataset=tokenized_dataset[\"test\"].shuffle(seed=42).select(range(1000)),\n",
        "    tokenizer=tokenizer,\n",
        "    data_collator=data_collator,\n",
        "    compute_metrics=compute_metrics,\n",
        ")\n"
      ],
      "metadata": {
        "id": "uH3pLFrWf61H"
      },
      "execution_count": null,
      "outputs": []
    },
    {
      "cell_type": "markdown",
      "source": [
        "7. Eğitimi başlatma"
      ],
      "metadata": {
        "id": "G6UUotcEf8jj"
      }
    },
    {
      "cell_type": "code",
      "source": [
        "trainer.train()\n"
      ],
      "metadata": {
        "id": "pThSTEgef8Ef"
      },
      "execution_count": null,
      "outputs": []
    },
    {
      "cell_type": "markdown",
      "source": [
        "8. Modele Hugging Face Hub’a yükleme"
      ],
      "metadata": {
        "id": "HMNFWb6kgRoi"
      }
    },
    {
      "cell_type": "code",
      "source": [
        "trainer.push_to_hub()\n"
      ],
      "metadata": {
        "id": "AOjhTtw-gRXq"
      },
      "execution_count": null,
      "outputs": []
    },
    {
      "cell_type": "code",
      "metadata": {
        "colab": {
          "base_uri": "https://localhost:8080/"
        },
        "id": "ac29a11a",
        "outputId": "99277ec5-4eee-41a3-a8fd-26e210936c18"
      },
      "source": [
        "from google.colab import drive\n",
        "drive.mount('/content/drive')"
      ],
      "execution_count": 17,
      "outputs": [
        {
          "output_type": "stream",
          "name": "stdout",
          "text": [
            "Drive already mounted at /content/drive; to attempt to forcibly remount, call drive.mount(\"/content/drive\", force_remount=True).\n"
          ]
        }
      ]
    }
  ]
}